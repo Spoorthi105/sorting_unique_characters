{
 "cells": [
  {
   "cell_type": "code",
   "execution_count": 1,
   "id": "a45e85b5",
   "metadata": {},
   "outputs": [
    {
     "ename": "SyntaxError",
     "evalue": "invalid syntax (1749328583.py, line 43)",
     "output_type": "error",
     "traceback": [
      "\u001b[1;36m  Cell \u001b[1;32mIn[1], line 43\u001b[1;36m\u001b[0m\n\u001b[1;33m    This code should create a basic calendar app with a year entry, a dropdown to select the month, and a \"Show Calendar\" button to display the calendar for the selected month and year. Please make sure you have tkinter installed and configured correctly to run this code.\u001b[0m\n\u001b[1;37m         ^\u001b[0m\n\u001b[1;31mSyntaxError\u001b[0m\u001b[1;31m:\u001b[0m invalid syntax\n"
     ]
    }
   ],
   "source": [
    "import tkinter as tk\n",
    "import calendar\n",
    "\n",
    "def show_calendar():\n",
    "    year = int(year_var.get())\n",
    "    month = int(month_var.get())\n",
    "\n",
    "    cal_text.config(state=tk.NORMAL)\n",
    "    cal_text.delete(1.0, tk.END)\n",
    "\n",
    "    cal = calendar.month(year, month)\n",
    "    cal_text.insert(tk.INSERT, cal)\n",
    "    cal_text.config(state=tk.DISABLED)\n",
    "\n",
    "app = tk.Tk()\n",
    "app.title(\"Python Calendar App\")\n",
    "\n",
    "year_var = tk.StringVar()\n",
    "month_var = tk.StringVar()\n",
    "\n",
    "# Create Year Entry\n",
    "year_label = tk.Label(app, text=\"Enter Year:\")\n",
    "year_label.pack()\n",
    "year_entry = tk.Entry(app, textvariable=year_var)\n",
    "year_entry.pack()\n",
    "\n",
    "# Create Month Dropdown\n",
    "month_label = tk.Label(app, text=\"Select Month:\")\n",
    "month_label.pack()\n",
    "months = [\"\", \"January\", \"February\", \"March\", \"April\", \"May\", \"June\", \"July\", \"August\", \"September\", \"October\", \"November\", \"December\"]\n",
    "month_combobox = tk.OptionMenu(app, month_var, *months)\n",
    "month_combobox.pack()\n",
    "\n",
    "# Create Show Calendar Button\n",
    "show_button = tk.Button(app, text=\"Show Calendar\", command=show_calendar)\n",
    "show_button.pack()\n",
    "\n",
    "# Create Calendar Display\n",
    "cal_text = tk.Text(app, height=10, width=30, state=tk.DISABLED)\n",
    "cal_text.pack()\n",
    "\n",
    "app.mainloop()\n",
    "This code should create a basic calendar app with a year entry, a dropdown to select the month, and a \"Show Calendar\" button to display the calendar for the selected month and year. Please make sure you have tkinter installed and configured correctly to run this code.\n",
    "\n",
    "\n",
    "\n",
    "\n",
    "\n"
   ]
  },
  {
   "cell_type": "code",
   "execution_count": null,
   "id": "bb786e73",
   "metadata": {},
   "outputs": [],
   "source": []
  }
 ],
 "metadata": {
  "kernelspec": {
   "display_name": "Python 3 (ipykernel)",
   "language": "python",
   "name": "python3"
  },
  "language_info": {
   "codemirror_mode": {
    "name": "ipython",
    "version": 3
   },
   "file_extension": ".py",
   "mimetype": "text/x-python",
   "name": "python",
   "nbconvert_exporter": "python",
   "pygments_lexer": "ipython3",
   "version": "3.11.3"
  }
 },
 "nbformat": 4,
 "nbformat_minor": 5
}
