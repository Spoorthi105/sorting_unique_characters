{
 "cells": [
  {
   "cell_type": "code",
   "execution_count": 6,
   "id": "fce94702",
   "metadata": {},
   "outputs": [
    {
     "name": "stdout",
     "output_type": "stream",
     "text": [
      "the target eement 11 found atposition 4\n"
     ]
    }
   ],
   "source": [
    "def l(arr, target):\n",
    "    for i in range(len(arr)):\n",
    "        if arr[i]==target:\n",
    "            return i\n",
    "    return -1\n",
    "arr = [1, 22, 45, 11, 78]\n",
    "target = 11\n",
    "result = l(arr, target)\n",
    "if result != -1:\n",
    "    print(f\"the target eement {target} found at position {result+1}\")\n",
    "else:\n",
    "    print(f\"the target element {target} not found\")\n",
    "\n"
   ]
  },
  {
   "cell_type": "code",
   "execution_count": null,
   "id": "e68a0e39",
   "metadata": {},
   "outputs": [],
   "source": []
  }
 ],
 "metadata": {
  "kernelspec": {
   "display_name": "Python 3 (ipykernel)",
   "language": "python",
   "name": "python3"
  },
  "language_info": {
   "codemirror_mode": {
    "name": "ipython",
    "version": 3
   },
   "file_extension": ".py",
   "mimetype": "text/x-python",
   "name": "python",
   "nbconvert_exporter": "python",
   "pygments_lexer": "ipython3",
   "version": "3.11.3"
  }
 },
 "nbformat": 4,
 "nbformat_minor": 5
}
