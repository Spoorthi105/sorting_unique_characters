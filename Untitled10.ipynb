{
 "cells": [
  {
   "cell_type": "code",
   "execution_count": 2,
   "id": "11ba3c91",
   "metadata": {},
   "outputs": [
    {
     "ename": "SyntaxError",
     "evalue": "invalid non-printable character U+00A0 (730950752.py, line 4)",
     "output_type": "error",
     "traceback": [
      "\u001b[1;36m  Cell \u001b[1;32mIn[2], line 4\u001b[1;36m\u001b[0m\n\u001b[1;33m    print(a & b)\u001b[0m\n\u001b[1;37m                ^\u001b[0m\n\u001b[1;31mSyntaxError\u001b[0m\u001b[1;31m:\u001b[0m invalid non-printable character U+00A0\n"
     ]
    }
   ],
   "source": [
    "a = 10\n",
    "b = 4\n",
    "# Print bitwise AND operation\n",
    "print(a & b) \n",
    "# Print bitwise OR operation\n",
    "print(a | b) \n",
    "# Print bitwise NOT operation\n",
    "print(~a) \n",
    "# print bitwise XOR operation\n",
    "print(a ^ b) \n",
    "# print bitwise right shift operation\n",
    "print(a >> 2) \n",
    "# print bitwise left shift operation\n",
    "print(a << 2)\n"
   ]
  },
  {
   "cell_type": "code",
   "execution_count": 19,
   "id": "1ac41083",
   "metadata": {
    "scrolled": true
   },
   "outputs": [
    {
     "name": "stdout",
     "output_type": "stream",
     "text": [
      "the array 20 found in location 1\n"
     ]
    }
   ],
   "source": [
    "def linear_search(arr, target):\n",
    "    for i in range(len(arr)):\n",
    "        if arr[i] == target:\n",
    "            return i\n",
    "    return  -1\n",
    "\n",
    "rr = [10, 20, 30]\n",
    "target = 20\n",
    "r = linear_search(arr, target)\n",
    "if  r != -1:\n",
    "    print(f\"the array {target} found in location {r}\")\n",
    "else:\n",
    "    print(f\"the array {r} not found\") \n",
    "    \n",
    "        \n"
   ]
  },
  {
   "cell_type": "code",
   "execution_count": 14,
   "id": "e1843253",
   "metadata": {},
   "outputs": [
    {
     "name": "stdout",
     "output_type": "stream",
     "text": [
      "gm\n"
     ]
    }
   ],
   "source": [
    "print(\"gm\")"
   ]
  },
  {
   "cell_type": "code",
   "execution_count": 15,
   "id": "b95524f8",
   "metadata": {},
   "outputs": [
    {
     "name": "stdout",
     "output_type": "stream",
     "text": [
      "the search element 30 found at position 2\n"
     ]
    }
   ],
   "source": [
    "def binary_search(arr, target):\n",
    "    left,right=0,len(arr)-1\n",
    "    \n",
    "    while left<=right:\n",
    "        mid = left+(right-left)//2\n",
    "    \n",
    "        if arr[mid] == target:\n",
    "            return mid\n",
    "        elif arr[mid] < target:\n",
    "            left = mid+1\n",
    "        else:\n",
    "            right = mid - 1\n",
    "    return -1\n",
    "        \n",
    "array = [10, 20, 30, 40]\n",
    "target = 30\n",
    "result = binary_search(arr, target)\n",
    "if result != -1:\n",
    "        print(f\"the search element {target} found at position {result}\")\n",
    "else:\n",
    "        print(f\"{target} not found!!\")\n",
    "\n",
    "              \n",
    "    \n",
    "        \n",
    "        \n",
    "        \n",
    "    \n",
    "   \n",
    "        \n",
    "        \n",
    "        "
   ]
  },
  {
   "cell_type": "code",
   "execution_count": 11,
   "id": "11009618",
   "metadata": {},
   "outputs": [
    {
     "name": "stdout",
     "output_type": "stream",
     "text": [
      "do it\n"
     ]
    }
   ],
   "source": [
    ", 3print(\"do it\")"
   ]
  },
  {
   "cell_type": "code",
   "execution_count": null,
   "id": "006c544e",
   "metadata": {},
   "outputs": [],
   "source": [
    "change len(arr)\n",
    "arr[mid]"
   ]
  },
  {
   "cell_type": "code",
   "execution_count": 23,
   "id": "f7e60a83",
   "metadata": {},
   "outputs": [
    {
     "name": "stdout",
     "output_type": "stream",
     "text": [
      "enter sorted elemnt to list10, 20\n",
      " enet element to insert25\n",
      "final list ['10,', '20', '25']\n"
     ]
    }
   ],
   "source": [
    "import bisect\n",
    "def insert(list1, n):\n",
    "    bisect.insort(list1, n)\n",
    "    return list1\n",
    "list1 = input(\"enter sorted elemnt to list\")\n",
    "list1 = list1.split()\n",
    "n = input(\" enet element to insert\")\n",
    "insert(list1, n)\n",
    "print(\"final list\",list1)\n"
   ]
  },
  {
   "cell_type": "code",
   "execution_count": 26,
   "id": "c225553e",
   "metadata": {},
   "outputs": [
    {
     "name": "stdout",
     "output_type": "stream",
     "text": [
      "enter sorted element into the list10, 20, 30\n",
      "enyet ele to insert25\n",
      "new list ['10,', '20,', '25', '30']\n"
     ]
    }
   ],
   "source": [
    "import bisect\n",
    "def insert(list1, n):\n",
    "    bisect.insort(list1, n)\n",
    "    return list1\n",
    "list1 = input(\"enter sorted element into the list\")\n",
    "list1 = list1.split()\n",
    "n = input(\"enyet ele to insert\")\n",
    "insert(list1, n)\n",
    "print(\"new list\",list1)"
   ]
  },
  {
   "cell_type": "code",
   "execution_count": null,
   "id": "6737827c",
   "metadata": {},
   "outputs": [],
   "source": [
    "3rdline mix of 1st n 2nnnd\n",
    "5 separate"
   ]
  },
  {
   "cell_type": "code",
   "execution_count": null,
   "id": "46c8637b",
   "metadata": {},
   "outputs": [],
   "source": [
    "def create():\n",
    "    stack = []\n",
    "return stack\n",
    " \n",
    "def delete():\n",
    "    return len(stack)==0\n",
    "\n",
    "def push(stack,ele):\n",
    "    stack.append(ele)\n",
    "print(\"the removed element is\"+ele) \n",
    "\n",
    "def pop():\n",
    "    if delete(stack)\n",
    "        print(\"stack is empty\")\n",
    "        return stack.pop()\n",
    "stack.create()\n",
    "push(stack,str(1))\n",
    "push(stack,str(2))\n",
    "push(stack,str(3))\n",
    "print(\"popped item\"+pop(stack))\n",
    "print(\"after popping\"+str(stac))\n",
    "    \n",
    "    "
   ]
  },
  {
   "cell_type": "code",
   "execution_count": 27,
   "id": "837f31de",
   "metadata": {},
   "outputs": [
    {
     "name": "stdout",
     "output_type": "stream",
     "text": [
      "Initial stack\n",
      "['a', 'b', 'c']\n",
      "\n",
      "Elements popped from stack:\n",
      "c\n",
      "b\n",
      "a\n",
      "\n",
      "Stack after elements are popped:\n",
      "[]\n"
     ]
    }
   ],
   "source": [
    "stack = []\n",
    "\n",
    "stack.append('a')\n",
    "stack.append('b')\n",
    "stack.append('c')\n",
    "print('Initial stack')\n",
    "print(stack)\n",
    "\n",
    "print('\\nElements popped from stack:')\n",
    "print(stack.pop())\n",
    "print(stack.pop())\n",
    "print(stack.pop())\n",
    "print('\\nStack after elements are popped:')\n",
    "print(stack)"
   ]
  },
  {
   "cell_type": "code",
   "execution_count": 35,
   "id": "6a15689a",
   "metadata": {},
   "outputs": [
    {
     "name": "stdout",
     "output_type": "stream",
     "text": [
      "elements in the stack are\n",
      "['a', 'b', '12', '1234']\n",
      "elements removed from the stack are\n",
      "1234\n",
      "12\n",
      "b\n",
      "the stack after removing items are\n",
      "['a']\n"
     ]
    }
   ],
   "source": [
    "stack = []\n",
    "print(\"elements in the stack are\")\n",
    "(stack.append('a'))\n",
    "(stack.append('b'))\n",
    "(stack.append('12'))\n",
    "(stack.append('1234'))\n",
    "print(stack)\n",
    "print(\"elements removed from the stack are\")\n",
    "print(stack.pop())\n",
    "print(stack.pop())\n",
    "print(stack.pop())\n",
    "print(\"the stack after removing items are\")\n",
    "print(stack)\n"
   ]
  },
  {
   "cell_type": "code",
   "execution_count": 41,
   "id": "0fc62404",
   "metadata": {},
   "outputs": [
    {
     "name": "stdout",
     "output_type": "stream",
     "text": [
      "Calling private member of base class: \n"
     ]
    },
    {
     "ename": "NameError",
     "evalue": "name 'self' is not defined",
     "output_type": "error",
     "traceback": [
      "\u001b[1;31m---------------------------------------------------------------------------\u001b[0m",
      "\u001b[1;31mNameError\u001b[0m                                 Traceback (most recent call last)",
      "Cell \u001b[1;32mIn[41], line 10\u001b[0m\n\u001b[0;32m      8\u001b[0m         Base__init__(\u001b[38;5;28mself\u001b[39m)\n\u001b[0;32m      9\u001b[0m \u001b[38;5;28mprint\u001b[39m(\u001b[38;5;124m\"\u001b[39m\u001b[38;5;124mCalling private member of base class: \u001b[39m\u001b[38;5;124m\"\u001b[39m)\n\u001b[1;32m---> 10\u001b[0m \u001b[38;5;28mprint\u001b[39m(\u001b[38;5;28mself\u001b[39m\u001b[38;5;241m.\u001b[39m__c)\n\u001b[0;32m     12\u001b[0m obj1 \u001b[38;5;241m=\u001b[39m Base()\n\u001b[0;32m     13\u001b[0m \u001b[38;5;28mprint\u001b[39m(obj1\u001b[38;5;241m.\u001b[39ma)\n",
      "\u001b[1;31mNameError\u001b[0m: name 'self' is not defined"
     ]
    }
   ],
   "source": [
    "class Base:\n",
    "    def __init__(self):\n",
    "        self.a = \"MCA\"\n",
    "        self._c = \"DEAPRTMENT\"\n",
    "# Creating a derived class\n",
    "class Derived(Base):\n",
    "    def __init__(self):\n",
    "        Base__init__(self)\n",
    "print(\"Calling private member of base class: \")\n",
    "print(self.__c)\n",
    "\n",
    "obj1 = Base()\n",
    "print(obj1.a)\n"
   ]
  },
  {
   "cell_type": "code",
   "execution_count": 11,
   "id": "7c4ebf18",
   "metadata": {},
   "outputs": [
    {
     "name": "stdout",
     "output_type": "stream",
     "text": [
      "araay before manipulating is\n",
      "[10 20 30]\n",
      "[10 20 30]\n",
      "the 20 found at location 1\n",
      "[10 20]\n",
      "[30]\n"
     ]
    }
   ],
   "source": [
    "import numpy as np\n",
    "arr = np.array([10, 20, 30])\n",
    "print(\"araay before manipulating is\")\n",
    "print(arr)\n",
    "\n",
    "arr_sort = np.sort(arr)\n",
    "print(arr_sort)\n",
    "\n",
    "target = 20\n",
    "index = np.searchsorted(arr_sort, target)\n",
    "print(f\"the {target} found at location {index}\")\n",
    "\n",
    "arr_split = np.array_split(arr_sort, 2)\n",
    "for sub_arr in arr_split:\n",
    "      print(sub_arr)\n",
    "      \n"
   ]
  },
  {
   "cell_type": "code",
   "execution_count": 18,
   "id": "4b0b74ab",
   "metadata": {},
   "outputs": [
    {
     "data": {
      "image/png": "[encoded data removed]",
      "text/plain": [
       "<Figure size 640x480 with 1 Axes>"
      ]
     },
     "metadata": {},
     "output_type": "display_data"
    }
   ],
   "source": [
    "import numpy as np\n",
    "import matplotlib.pyplot as plt\n",
    "x = np.arange(0, 3*np.pi, 0.1)\n",
    "y_sin = np.sin(x)\n",
    "y_cos = np.cos(x)\n",
    "\n",
    "plt.plot(x, y_sin)\n",
    "plt.plot(x, y_cos)\n",
    "plt.xlabel(\"x axis\")\n",
    "plt.ylabel(\"y-axis\")\n",
    "plt.title(\"lab\")\n",
    "plt.show()"
   ]
  },
  {
   "cell_type": "code",
   "execution_count": null,
   "id": "6d16f94b",
   "metadata": {},
   "outputs": [],
   "source": []
  }
 ],
 "metadata": {
  "kernelspec": {
   "display_name": "Python 3 (ipykernel)",
   "language": "python",
   "name": "python3"
  },
  "language_info": {
   "codemirror_mode": {
    "name": "ipython",
    "version": 3
   },
   "file_extension": ".py",
   "mimetype": "text/x-python",
   "name": "python",
   "nbconvert_exporter": "python",
   "pygments_lexer": "ipython3",
   "version": "3.11.5"
  }
 },
 "nbformat": 4,
 "nbformat_minor": 5
}
