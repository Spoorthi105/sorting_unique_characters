{
 "cells": [
  {
   "cell_type": "code",
   "execution_count": 5,
   "id": "0e173360",
   "metadata": {},
   "outputs": [],
   "source": [
    "def square_value(num):\n",
    "    return num**2\n",
    "    print(square_value(2))\n",
    "    print(square_value(-4))"
   ]
  },
  {
   "cell_type": "code",
   "execution_count": null,
   "id": "f89d5d3a",
   "metadata": {},
   "outputs": [],
   "source": []
  }
 ],
 "metadata": {
  "kernelspec": {
   "display_name": "Python 3 (ipykernel)",
   "language": "python",
   "name": "python3"
  },
  "language_info": {
   "codemirror_mode": {
    "name": "ipython",
    "version": 3
   },
   "file_extension": ".py",
   "mimetype": "text/x-python",
   "name": "python",
   "nbconvert_exporter": "python",
   "pygments_lexer": "ipython3",
   "version": "3.11.5"
  }
 },
 "nbformat": 4,
 "nbformat_minor": 5
}
