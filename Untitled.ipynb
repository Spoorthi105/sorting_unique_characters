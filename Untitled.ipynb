{
 "cells": [
  {
   "cell_type": "code",
   "execution_count": null,
   "id": "6191dd3e",
   "metadata": {},
   "outputs": [],
   "source": [
    "def creating_gen(index):\n",
    "    months = ['jan','feb','mar','apr','may','jun','july','aug','sep','oct','nov','dec']\n",
    "    yield months[index]\n",
    "    yield months[index + 2]\n",
    "next_months = creating_gen(3)\n",
    "print(next(next_month),next(next_month))\n",
    "    \n",
    "    \n",
    "    "
   ]
  },
  {
   "cell_type": "code",
   "execution_count": null,
   "id": "780e50d3",
   "metadata": {},
   "outputs": [],
   "source": [
    "def creating_gen(index):\n",
    "    months = ['jan','feb','mar','apr','may','jun','july','aug','sep','oct','nov','dec']\n",
    "    yield months[index]\n",
    "    yield months[index + 2]\n",
    "    next_month = creating_gen(3)\n",
    "print(next(next_month),next(next_month))\n",
    "    \n",
    "    "
   ]
  },
  {
   "cell_type": "code",
   "execution_count": null,
   "id": "c1941cb9",
   "metadata": {},
   "outputs": [],
   "source": [
    "def creating_gen(index):\n",
    "    months=['jan','feb','mar','apr','may','jun','july','aug','sep','oct','nov','dec']\n",
    "yield months[index]\n",
    "yield months[index+2]\n",
    "next_months=creating_gen(3)\n",
    "print(next(next_month),next(next_month))\n",
    "    "
   ]
  },
  {
   "cell_type": "code",
   "execution_count": null,
   "id": "340167dc",
   "metadata": {},
   "outputs": [],
   "source": []
  },
  {
   "cell_type": "code",
   "execution_count": null,
   "id": "c1a7f510",
   "metadata": {},
   "outputs": [],
   "source": []
  },
  {
   "cell_type": "code",
   "execution_count": null,
   "id": "5caee8a4",
   "metadata": {},
   "outputs": [],
   "source": []
  }
 ],
 "metadata": {
  "kernelspec": {
   "display_name": "Python 3 (ipykernel)",
   "language": "python",
   "name": "python3"
  },
  "language_info": {
   "codemirror_mode": {
    "name": "ipython",
    "version": 3
   },
   "file_extension": ".py",
   "mimetype": "text/x-python",
   "name": "python",
   "nbconvert_exporter": "python",
   "pygments_lexer": "ipython3",
   "version": "3.11.3"
  }
 },
 "nbformat": 4,
 "nbformat_minor": 5
}
