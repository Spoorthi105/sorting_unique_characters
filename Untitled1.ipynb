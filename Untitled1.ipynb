{
 "cells": [
  {
   "cell_type": "code",
   "execution_count": 2,
   "id": "a262560f",
   "metadata": {},
   "outputs": [
    {
     "name": "stdout",
     "output_type": "stream",
     "text": [
      "apr jun\n"
     ]
    }
   ],
   "source": [
    "def creating_gen(index):\n",
    "    months = ['jan','feb','mar','apr','may','jun','july','aug','sep','oct','nov','dec']\n",
    "    yield months[index]\n",
    "    yield months[index+2]\n",
    "next_month = creating_gen(3)\n",
    "print(next(next_month),next(next_month))\n",
    "    "
   ]
  },
  {
   "cell_type": "code",
   "execution_count": null,
   "id": "81f77ef8",
   "metadata": {},
   "outputs": [],
   "source": [
    "def creating_gen(index):\n",
    "    months = []\n",
    "    yield \n",
    "    yield =\n",
    "    "
   ]
  }
 ],
 "metadata": {
  "kernelspec": {
   "display_name": "Python 3 (ipykernel)",
   "language": "python",
   "name": "python3"
  },
  "language_info": {
   "codemirror_mode": {
    "name": "ipython",
    "version": 3
   },
   "file_extension": ".py",
   "mimetype": "text/x-python",
   "name": "python",
   "nbconvert_exporter": "python",
   "pygments_lexer": "ipython3",
   "version": "3.11.3"
  }
 },
 "nbformat": 4,
 "nbformat_minor": 5
}
