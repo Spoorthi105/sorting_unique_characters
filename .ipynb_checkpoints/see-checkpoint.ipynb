{
 "cells": [
  {
   "cell_type": "markdown",
   "id": "57fe3d14",
   "metadata": {},
   "source": [
    "# import pandas as pd\n",
    "df = pd.read_csv('data.csv')\n",
    "print(df)"
   ]
  },
  {
   "cell_type": "code",
   "execution_count": null,
   "id": "5b969b0d",
   "metadata": {},
   "outputs": [],
   "source": []
  },
  {
   "cell_type": "code",
   "execution_count": 8,
   "id": "cd9a688f",
   "metadata": {},
   "outputs": [
    {
     "ename": "KeyError",
     "evalue": "'calories'",
     "output_type": "error",
     "traceback": [
      "\u001b[1;31m---------------------------------------------------------------------------\u001b[0m",
      "\u001b[1;31mKeyError\u001b[0m                                  Traceback (most recent call last)",
      "File \u001b[1;32mD:\\py\\Lib\\site-packages\\pandas\\core\\indexes\\base.py:3653\u001b[0m, in \u001b[0;36mIndex.get_loc\u001b[1;34m(self, key)\u001b[0m\n\u001b[0;32m   3652\u001b[0m \u001b[38;5;28;01mtry\u001b[39;00m:\n\u001b[1;32m-> 3653\u001b[0m     \u001b[38;5;28;01mreturn\u001b[39;00m \u001b[38;5;28mself\u001b[39m\u001b[38;5;241m.\u001b[39m_engine\u001b[38;5;241m.\u001b[39mget_loc(casted_key)\n\u001b[0;32m   3654\u001b[0m \u001b[38;5;28;01mexcept\u001b[39;00m \u001b[38;5;167;01mKeyError\u001b[39;00m \u001b[38;5;28;01mas\u001b[39;00m err:\n",
      "File \u001b[1;32mD:\\py\\Lib\\site-packages\\pandas\\_libs\\index.pyx:147\u001b[0m, in \u001b[0;36mpandas._libs.index.IndexEngine.get_loc\u001b[1;34m()\u001b[0m\n",
      "File \u001b[1;32mD:\\py\\Lib\\site-packages\\pandas\\_libs\\index.pyx:176\u001b[0m, in \u001b[0;36mpandas._libs.index.IndexEngine.get_loc\u001b[1;34m()\u001b[0m\n",
      "File \u001b[1;32mpandas\\_libs\\hashtable_class_helper.pxi:7080\u001b[0m, in \u001b[0;36mpandas._libs.hashtable.PyObjectHashTable.get_item\u001b[1;34m()\u001b[0m\n",
      "File \u001b[1;32mpandas\\_libs\\hashtable_class_helper.pxi:7088\u001b[0m, in \u001b[0;36mpandas._libs.hashtable.PyObjectHashTable.get_item\u001b[1;34m()\u001b[0m\n",
      "\u001b[1;31mKeyError\u001b[0m: 'calories'",
      "\nThe above exception was the direct cause of the following exception:\n",
      "\u001b[1;31mKeyError\u001b[0m                                  Traceback (most recent call last)",
      "Cell \u001b[1;32mIn[8], line 3\u001b[0m\n\u001b[0;32m      1\u001b[0m \u001b[38;5;28;01mimport\u001b[39;00m \u001b[38;5;21;01mpandas\u001b[39;00m \u001b[38;5;28;01mas\u001b[39;00m \u001b[38;5;21;01mpd\u001b[39;00m\n\u001b[0;32m      2\u001b[0m df \u001b[38;5;241m=\u001b[39m pd\u001b[38;5;241m.\u001b[39mread_csv(\u001b[38;5;124m'\u001b[39m\u001b[38;5;124mdata.csv\u001b[39m\u001b[38;5;124m'\u001b[39m)\n\u001b[1;32m----> 3\u001b[0m x \u001b[38;5;241m=\u001b[39m df[\u001b[38;5;124m'\u001b[39m\u001b[38;5;124mcalories\u001b[39m\u001b[38;5;124m'\u001b[39m]\u001b[38;5;241m.\u001b[39mmean()\n\u001b[0;32m      4\u001b[0m df[\u001b[38;5;124m'\u001b[39m\u001b[38;5;124mcalories\u001b[39m\u001b[38;5;124m'\u001b[39m]\u001b[38;5;241m.\u001b[39mfillna(x,inplace\u001b[38;5;241m=\u001b[39m\u001b[38;5;28;01mTrue\u001b[39;00m)\n",
      "File \u001b[1;32mD:\\py\\Lib\\site-packages\\pandas\\core\\frame.py:3761\u001b[0m, in \u001b[0;36mDataFrame.__getitem__\u001b[1;34m(self, key)\u001b[0m\n\u001b[0;32m   3759\u001b[0m \u001b[38;5;28;01mif\u001b[39;00m \u001b[38;5;28mself\u001b[39m\u001b[38;5;241m.\u001b[39mcolumns\u001b[38;5;241m.\u001b[39mnlevels \u001b[38;5;241m>\u001b[39m \u001b[38;5;241m1\u001b[39m:\n\u001b[0;32m   3760\u001b[0m     \u001b[38;5;28;01mreturn\u001b[39;00m \u001b[38;5;28mself\u001b[39m\u001b[38;5;241m.\u001b[39m_getitem_multilevel(key)\n\u001b[1;32m-> 3761\u001b[0m indexer \u001b[38;5;241m=\u001b[39m \u001b[38;5;28mself\u001b[39m\u001b[38;5;241m.\u001b[39mcolumns\u001b[38;5;241m.\u001b[39mget_loc(key)\n\u001b[0;32m   3762\u001b[0m \u001b[38;5;28;01mif\u001b[39;00m is_integer(indexer):\n\u001b[0;32m   3763\u001b[0m     indexer \u001b[38;5;241m=\u001b[39m [indexer]\n",
      "File \u001b[1;32mD:\\py\\Lib\\site-packages\\pandas\\core\\indexes\\base.py:3655\u001b[0m, in \u001b[0;36mIndex.get_loc\u001b[1;34m(self, key)\u001b[0m\n\u001b[0;32m   3653\u001b[0m     \u001b[38;5;28;01mreturn\u001b[39;00m \u001b[38;5;28mself\u001b[39m\u001b[38;5;241m.\u001b[39m_engine\u001b[38;5;241m.\u001b[39mget_loc(casted_key)\n\u001b[0;32m   3654\u001b[0m \u001b[38;5;28;01mexcept\u001b[39;00m \u001b[38;5;167;01mKeyError\u001b[39;00m \u001b[38;5;28;01mas\u001b[39;00m err:\n\u001b[1;32m-> 3655\u001b[0m     \u001b[38;5;28;01mraise\u001b[39;00m \u001b[38;5;167;01mKeyError\u001b[39;00m(key) \u001b[38;5;28;01mfrom\u001b[39;00m \u001b[38;5;21;01merr\u001b[39;00m\n\u001b[0;32m   3656\u001b[0m \u001b[38;5;28;01mexcept\u001b[39;00m \u001b[38;5;167;01mTypeError\u001b[39;00m:\n\u001b[0;32m   3657\u001b[0m     \u001b[38;5;66;03m# If we have a listlike key, _check_indexing_error will raise\u001b[39;00m\n\u001b[0;32m   3658\u001b[0m     \u001b[38;5;66;03m#  InvalidIndexError. Otherwise we fall through and re-raise\u001b[39;00m\n\u001b[0;32m   3659\u001b[0m     \u001b[38;5;66;03m#  the TypeError.\u001b[39;00m\n\u001b[0;32m   3660\u001b[0m     \u001b[38;5;28mself\u001b[39m\u001b[38;5;241m.\u001b[39m_check_indexing_error(key)\n",
      "\u001b[1;31mKeyError\u001b[0m: 'calories'"
     ]
    }
   ],
   "source": [
    "import pandas as pd\n",
    "df = pd.read_csv('data.csv')\n",
    "x = df['calories'].mean()\n",
    "df['calories'].fillna(x,inplace=True)"
   ]
  },
  {
   "cell_type": "code",
   "execution_count": null,
   "id": "73a2ba87",
   "metadata": {},
   "outputs": [],
   "source": [
    "import pandas as pd\n",
    "print(pd.options.display.max_rows)"
   ]
  },
  {
   "cell_type": "code",
   "execution_count": null,
   "id": "f91e2d3f",
   "metadata": {},
   "outputs": [],
   "source": [
    "import matplotlib.pyplot as plt\n",
    "x = [10,2,35]\n",
    "plt.boxplot(x)\n",
    "plt.xlabel('x-axis')\n",
    "plt.xlabel('y-axis')\n",
    "plt.title(\"example\")\n",
    "plt.show()"
   ]
  },
  {
   "cell_type": "code",
   "execution_count": null,
   "id": "b56b6137",
   "metadata": {},
   "outputs": [],
   "source": [
    "import matplotlib.pyplot as plt\n",
    "\n",
    "# Sample data\n",
    "x = [1, 2, 3, 4, 5]\n",
    "y = [10, 15, 7, 12, 9]\n",
    "\n",
    "# Create a scatter plot\n",
    "plt.scatter(x, y)\n",
    "plt.title('Scatter Plot Example')\n",
    "plt.xlabel('X-axis')\n",
    "plt.ylabel('Y-axis')\n",
    "plt.show()\n"
   ]
  },
  {
   "cell_type": "code",
   "execution_count": null,
   "id": "82b26151",
   "metadata": {},
   "outputs": [],
   "source": [
    "import matplotlib.pyplot as plt\n",
    "\n",
    "# Sample data\n",
    "data = [80, 85, 90, 70, 95, 75, 88, 92]\n",
    "\n",
    "# Create a box plot\n",
    "plt.boxplot(data)\n",
    "plt.title('Box Plot Example')\n",
    "plt.ylabel('Values')\n",
    "plt.show()\n"
   ]
  },
  {
   "cell_type": "code",
   "execution_count": null,
   "id": "701fe510",
   "metadata": {},
   "outputs": [],
   "source": [
    "import seaborn as sns\n",
    "import matplotlib.pyplot as plt\n",
    "\n",
    "# Sample categorical data\n",
    "data = [\"A\", \"B\", \"A\", \"C\", \"B\", \"A\", \"C\", \"B\", \"A\"]\n",
    "\n",
    "# Create a count plot\n",
    "sns.countplot(data)\n",
    "\n",
    "# Show the plot\n",
    "plt.show()\n"
   ]
  },
  {
   "cell_type": "code",
   "execution_count": null,
   "id": "0fde8f46",
   "metadata": {},
   "outputs": [],
   "source": []
  },
  {
   "cell_type": "code",
   "execution_count": null,
   "id": "b55923e0",
   "metadata": {},
   "outputs": [],
   "source": [
    "import seaborn as sns\n",
    "import matplotlib.pyplot as plt\n",
    "\n",
    "# Sample categorical data\n",
    "data = [\"A\", \"B\", \"A\", \"C\", \"B\", \"A\", \"C\", \"B\", \"A\"]\n",
    "\n",
    "# Create a count plot\n",
    "sns.countplot(data)\n",
    "\n",
    "# Show the plot\n",
    "plt.show()\n"
   ]
  },
  {
   "cell_type": "code",
   "execution_count": null,
   "id": "5bc0a201",
   "metadata": {},
   "outputs": [],
   "source": [
    "import seaborn as sns\n",
    "import matplotlib.pyplot as plt\n",
    "import pandas as pd  # Import Pandas if you have data in a DataFrame\n",
    "\n",
    "# Sample categorical data\n",
    "data = [\"A\", \"B\", \"A\", \"C\", \"B\", \"A\", \"C\", \"B\", \"A\"]\n",
    "\n",
    "# Create a DataFrame (optional, but useful for real-world data)\n",
    "df = pd.DataFrame({'Category': data})\n",
    "\n",
    "# Create a count plot with explicit data\n",
    "sns.countplot(x='Category', data=df)\n",
    "\n",
    "# Show the plot\n",
    "plt.show()\n"
   ]
  },
  {
   "cell_type": "code",
   "execution_count": null,
   "id": "7003f641",
   "metadata": {},
   "outputs": [],
   "source": [
    "import seaborn as sns\n",
    "import matplotlib.pyplot as plt\n",
    "import pandas as pd  # Import Pandas if you have data in a DataFrame\n",
    "\n",
    "# Sample categorical data\n",
    "da = [\"A\", \"B\", \"C\", \"B\"]\n",
    "\n",
    "# Create a DataFrame (optional, but useful for real-world data)\n",
    "df = pd.DataFrame({'Category': da})\n",
    "\n",
    "# Create a count plot with explicit data\n",
    "sns.countplot(x='Category', da=df)\n",
    "\n",
    "# Show the plot\n",
    "plt.show()\n"
   ]
  },
  {
   "cell_type": "code",
   "execution_count": null,
   "id": "5d2717fb",
   "metadata": {},
   "outputs": [],
   "source": [
    "import matplotlib.pyplot as plt\n",
    "x = [10,20,30]\n",
    "plt.hist(x)\n",
    "plt.xlabel = (\"a\")\n",
    "plt.ylabel = (\"b\")\n",
    "plt.show()"
   ]
  },
  {
   "cell_type": "code",
   "execution_count": null,
   "id": "e87e34da",
   "metadata": {},
   "outputs": [],
   "source": [
    "t = \"$$hi me$$\"\n",
    "y = t.strip(\"$\")\n",
    "print(t)\n",
    "print(y)"
   ]
  },
  {
   "cell_type": "code",
   "execution_count": null,
   "id": "bea8b0ee",
   "metadata": {},
   "outputs": [],
   "source": [
    "import platform\n",
    "platform.system()"
   ]
  },
  {
   "cell_type": "code",
   "execution_count": null,
   "id": "774754e4",
   "metadata": {},
   "outputs": [],
   "source": [
    "import platform as pf\n",
    "print(dir(platform))"
   ]
  },
  {
   "cell_type": "code",
   "execution_count": null,
   "id": "ea993b85",
   "metadata": {},
   "outputs": [],
   "source": [
    "import datetime\n",
    "a = datetime.datetime.now()\n",
    "print(a.year)"
   ]
  },
  {
   "cell_type": "code",
   "execution_count": null,
   "id": "160c8450",
   "metadata": {},
   "outputs": [],
   "source": [
    "import math\n",
    "x=min(10,20,24)\n",
    "y=max(-12,0)\n",
    "z=math.sqrt(81)\n",
    "a=abs(-7.925889)\n",
    "b=pow(4,3)\n",
    "c=math.ceil(4.7)\n",
    "d=math.floor(7.2)\n",
    "print(x)\n",
    "print(y)\n",
    "print(z,a,b,c,d)"
   ]
  },
  {
   "cell_type": "code",
   "execution_count": null,
   "id": "9c6f6df0",
   "metadata": {},
   "outputs": [],
   "source": [
    "import json\n",
    "{\n",
    "\"name\":\"S\"\n",
    "\"isstudent\":\"no\"\n",
    "\"hobbies\":[\"read\",\"w\"]\n",
    "\"address\":{\"a\",\"b\"\n",
    "}\n",
    "}\n"
   ]
  },
  {
   "cell_type": "code",
   "execution_count": null,
   "id": "b3458ddc",
   "metadata": {},
   "outputs": [],
   "source": [
    "import json\n",
    "# some JSON: \n",
    "x = { \"name\":\"John\", \"age\":30, \"city\":\"New York\"}\n",
    "# parse x:\n",
    "y = json.loads(x)\n",
    "print(y[\"age\"]) \n"
   ]
  },
  {
   "cell_type": "code",
   "execution_count": null,
   "id": "cece655d",
   "metadata": {},
   "outputs": [],
   "source": [
    "import json \n",
    "# a Python object (dict): \n",
    "x = { \"name\": \"John\", \n",
    "     \"age\": 30, \n",
    "     \"city\": \"New York\" } \n",
    "# convert into JSON: \n",
    "y = json.dumps(x)\n",
    "print(y)"
   ]
  },
  {
   "cell_type": "code",
   "execution_count": null,
   "id": "34976dcf",
   "metadata": {},
   "outputs": [],
   "source": [
    "import json \n",
    "# some JSON: \n",
    "x = '{ \"name\":\"John\", \"age\":30, \"city\":\"New York\"}’ \n",
    "# parse x:\n",
    " y = json.loads(x)\n",
    "print(y[\"age\"]) \n"
   ]
  },
  {
   "cell_type": "code",
   "execution_count": null,
   "id": "5ed8d2c6",
   "metadata": {},
   "outputs": [],
   "source": [
    "import re \n",
    "txt = \"The rain in Spain\" \n",
    "x = re.search(\"^The.*Spain$\", txt)\n",
    "print(x)\n"
   ]
  },
  {
   "cell_type": "code",
   "execution_count": null,
   "id": "d5fc1ed9",
   "metadata": {},
   "outputs": [],
   "source": [
    "import re.txt = \"The rain in Spain\"\n",
    "x = re.findall(\"ai\", txt)\n",
    "print(x)\n"
   ]
  },
  {
   "cell_type": "code",
   "execution_count": null,
   "id": "9b5d4f62",
   "metadata": {},
   "outputs": [],
   "source": [
    "import re\n",
    "txt = \"The rain in Spain\"\n",
    "#Check if \"Portugal\" is in the string:\n",
    "x = re.findall(\"Portugal\", txt)\n",
    "print(x)\n",
    "if (x):\n",
    "  print(\"Yes, there is at least one match!\")\n",
    "else:\n",
    "  print(\"No match\")\n"
   ]
  },
  {
   "cell_type": "code",
   "execution_count": null,
   "id": "d6618179",
   "metadata": {},
   "outputs": [],
   "source": [
    "txt = \"The rain in Spain\"\n",
    "x = re.split(\"\\s\", txt,1)\n",
    "print(x)\n"
   ]
  },
  {
   "cell_type": "code",
   "execution_count": null,
   "id": "03dc9d04",
   "metadata": {},
   "outputs": [],
   "source": [
    "import re\n",
    "txt = \"The rain in Spain\"\n",
    "x = re.sub(\"\\s\", \"9\", txt, 2)\n",
    "print(x)\n"
   ]
  },
  {
   "cell_type": "code",
   "execution_count": null,
   "id": "d700f5fe",
   "metadata": {},
   "outputs": [],
   "source": [
    "pip version"
   ]
  },
  {
   "cell_type": "code",
   "execution_count": null,
   "id": "8079b403",
   "metadata": {},
   "outputs": [],
   "source": [
    "x = 20\n",
    "print(type(x))"
   ]
  },
  {
   "cell_type": "code",
   "execution_count": null,
   "id": "37d891cf",
   "metadata": {},
   "outputs": [],
   "source": [
    "print(float(2))"
   ]
  },
  {
   "cell_type": "code",
   "execution_count": null,
   "id": "a4439453",
   "metadata": {},
   "outputs": [],
   "source": [
    "for i in range(5):\n",
    "    print(i)\n",
    "  #b"
   ]
  },
  {
   "cell_type": "code",
   "execution_count": null,
   "id": "b8a95c69",
   "metadata": {},
   "outputs": [],
   "source": [
    "x=1 \n",
    "while x<=10:\n",
    "    x=x+1\n",
    "    print(x)\n",
    "    if x==5:\n",
    "        break\n"
   ]
  },
  {
   "cell_type": "code",
   "execution_count": null,
   "id": "38468f44",
   "metadata": {},
   "outputs": [],
   "source": [
    "def square_value(num):\n",
    "  / /This function returns the square value of the entered number\n",
    "    return num**2\n",
    " print(square_value(2))\n",
    "print(square_value(-4))\n"
   ]
  },
  {
   "cell_type": "code",
   "execution_count": null,
   "id": "f7edf67d",
   "metadata": {},
   "outputs": [],
   "source": [
    "print(\"a\")"
   ]
  },
  {
   "cell_type": "code",
   "execution_count": null,
   "id": "16d4caad",
   "metadata": {},
   "outputs": [],
   "source": [
    "def square_value(num):\n",
    "  / /This function returns the square value of the entered number\n",
    "    return num**2\n",
    " print(square_value(2))\n",
    "print(square_value(-4))"
   ]
  },
  {
   "cell_type": "code",
   "execution_count": 9,
   "id": "c4cd2429",
   "metadata": {},
   "outputs": [
    {
     "name": "stdout",
     "output_type": "stream",
     "text": [
      "hello spoorthi\n"
     ]
    }
   ],
   "source": [
    "x = \"spoorthi\";\n",
    "print(\"hello \"+x);"
   ]
  },
  {
   "cell_type": "markdown",
   "id": "4691db45",
   "metadata": {},
   "source": [
    "this is graph \n",
    "# this is graph\n",
    "\n"
   ]
  },
  {
   "cell_type": "code",
   "execution_count": 17,
   "id": "0894a2b8",
   "metadata": {},
   "outputs": [
    {
     "data": {
      "image/png": "[encoded data removed]",
      "text/plain": [
       "<Figure size 640x480 with 1 Axes>"
      ]
     },
     "metadata": {},
     "output_type": "display_data"
    }
   ],
   "source": [
    "import matplotlib.pyplot as plt\n",
    "plt.plot([0,20,30], [10,20,30])\n",
    "plt.xlabel(\"speed\")\n",
    "plt.ylabel(\"time\")\n",
    "plt.show()"
   ]
  },
  {
   "cell_type": "markdown",
   "id": "0d13f827",
   "metadata": {},
   "source": [
    "this is note \n",
    "#big title\n",
    "#hgrtrtr\n",
    "# htr nhf hg\n",
    "gf\n",
    "#gfsetlk\n",
    "#bvft"
   ]
  },
  {
   "cell_type": "code",
   "execution_count": 13,
   "id": "78de25dd",
   "metadata": {},
   "outputs": [
    {
     "name": "stdout",
     "output_type": "stream",
     "text": [
      "enter your name123\n",
      "hello:123\n"
     ]
    }
   ],
   "source": [
    "x = input(\"enter your name\")\n",
    "print(\"hello:\"+x)"
   ]
  },
  {
   "cell_type": "code",
   "execution_count": 17,
   "id": "47fcfe6d",
   "metadata": {},
   "outputs": [
    {
     "name": "stdout",
     "output_type": "stream",
     "text": [
      "GOOD MORNING:keerthi pappa amma\n",
      " in family for everyonekeerthi pappa amma\n"
     ]
    }
   ],
   "source": [
    "x= input(\"GOOD MORNING:\")\n",
    "print(\" in family for everyone\"+x)"
   ]
  },
  {
   "cell_type": "markdown",
   "id": "0e5f14f1",
   "metadata": {},
   "source": [
    "# this is for highlights\n"
   ]
  },
  {
   "cell_type": "code",
   "execution_count": 16,
   "id": "c2de19cc",
   "metadata": {},
   "outputs": [
    {
     "data": {
      "image/png": "[encoded data removed]",
      "text/plain": [
       "<Figure size 640x480 with 1 Axes>"
      ]
     },
     "metadata": {},
     "output_type": "display_data"
    }
   ],
   "source": [
    "import matplotlib.pyplot as plt\n",
    "x = [10, 20, 30]\n",
    "y = [10, 20, 30]\n",
    "plt.plot(x, y)\n",
    "plt.xlabel(\"speed\")\n",
    "plt.ylabel(\"time\")\n",
    "plt.show()"
   ]
  },
  {
   "cell_type": "code",
   "execution_count": 31,
   "id": "4a53bac5",
   "metadata": {},
   "outputs": [],
   "source": [
    "x = 10.2112121212121\n",
    "y = \"spoorthi\"\n",
    "z = [10, 20, 55, 77]\n"
   ]
  },
  {
   "cell_type": "code",
   "execution_count": 40,
   "id": "e82a35be",
   "metadata": {},
   "outputs": [
    {
     "name": "stdout",
     "output_type": "stream",
     "text": [
      "10.2112121212121 spoorthi [10, 20, 55, 77]\n"
     ]
    }
   ],
   "source": [
    "print(x, y, z)\n"
   ]
  },
  {
   "cell_type": "code",
   "execution_count": 42,
   "id": "e7a7a9d9",
   "metadata": {},
   "outputs": [
    {
     "name": "stdout",
     "output_type": "stream",
     "text": [
      "20\n"
     ]
    }
   ],
   "source": [
    "print(z[1])"
   ]
  },
  {
   "cell_type": "code",
   "execution_count": 43,
   "id": "1e3a7187",
   "metadata": {},
   "outputs": [],
   "source": [
    "z[3]= 75"
   ]
  },
  {
   "cell_type": "code",
   "execution_count": 44,
   "id": "1f20f5c9",
   "metadata": {},
   "outputs": [
    {
     "name": "stdout",
     "output_type": "stream",
     "text": [
      "[10, 20, 55, 75]\n"
     ]
    }
   ],
   "source": [
    "print(z)"
   ]
  },
  {
   "cell_type": "code",
   "execution_count": 45,
   "id": "f6458a54",
   "metadata": {},
   "outputs": [
    {
     "data": {
      "text/plain": [
       "list"
      ]
     },
     "execution_count": 45,
     "metadata": {},
     "output_type": "execute_result"
    }
   ],
   "source": [
    "type(z)"
   ]
  },
  {
   "cell_type": "code",
   "execution_count": 11,
   "id": "7b4f218c",
   "metadata": {},
   "outputs": [],
   "source": [
    "x = open('python lab.ipynb','r')# FILE POINTERS : are used instead of giving path of the variables u just create a variable "
   ]
  },
  {
   "cell_type": "code",
   "execution_count": 48,
   "id": "4063c0be",
   "metadata": {},
   "outputs": [
    {
     "data": {
      "text/plain": [
       "_io.TextIOWrapper"
      ]
     },
     "execution_count": 48,
     "metadata": {},
     "output_type": "execute_result"
    }
   ],
   "source": [
    "#file reffering present in same \n",
    "type(x)"
   ]
  },
  {
   "cell_type": "code",
   "execution_count": 9,
   "id": "857f5e60",
   "metadata": {},
   "outputs": [
    {
     "name": "stdout",
     "output_type": "stream",
     "text": [
      "<class 'list'>\n",
      "20\n",
      "[10, 20]\n",
      "[11, 20]\n"
     ]
    }
   ],
   "source": [
    "#tuples\n",
    "# tuples are immutable data type\n",
    "x = (1, 2, 3)\n",
    "y= [10, 20]\n",
    "print(type(y))\n",
    "print(y[1])\n",
    "print(y[:])\n",
    "y[0]=11\n",
    "print(y)\n",
    "\n"
   ]
  },
  {
   "cell_type": "code",
   "execution_count": 50,
   "id": "8963be60",
   "metadata": {},
   "outputs": [
    {
     "data": {
      "text/plain": [
       "tuple"
      ]
     },
     "execution_count": 50,
     "metadata": {},
     "output_type": "execute_result"
    }
   ],
   "source": [
    "type(x)"
   ]
  },
  {
   "cell_type": "code",
   "execution_count": 51,
   "id": "96b19a7f",
   "metadata": {},
   "outputs": [
    {
     "data": {
      "text/plain": [
       "2"
      ]
     },
     "execution_count": 51,
     "metadata": {},
     "output_type": "execute_result"
    }
   ],
   "source": [
    "x[1]"
   ]
  },
  {
   "cell_type": "code",
   "execution_count": 52,
   "id": "25b6ddb3",
   "metadata": {},
   "outputs": [
    {
     "ename": "TypeError",
     "evalue": "'tuple' object does not support item assignment",
     "output_type": "error",
     "traceback": [
      "\u001b[1;31m---------------------------------------------------------------------------\u001b[0m",
      "\u001b[1;31mTypeError\u001b[0m                                 Traceback (most recent call last)",
      "Cell \u001b[1;32mIn[52], line 1\u001b[0m\n\u001b[1;32m----> 1\u001b[0m x[\u001b[38;5;241m1\u001b[39m] \u001b[38;5;241m=\u001b[39m \u001b[38;5;241m10\u001b[39m\n",
      "\u001b[1;31mTypeError\u001b[0m: 'tuple' object does not support item assignment"
     ]
    }
   ],
   "source": [
    "x[1] = 10"
   ]
  },
  {
   "cell_type": "code",
   "execution_count": 19,
   "id": "b13c0059",
   "metadata": {},
   "outputs": [
    {
     "ename": "ValueError",
     "evalue": "too many values to unpack (expected 2)",
     "output_type": "error",
     "traceback": [
      "\u001b[1;31m---------------------------------------------------------------------------\u001b[0m",
      "\u001b[1;31mValueError\u001b[0m                                Traceback (most recent call last)",
      "Cell \u001b[1;32mIn[19], line 2\u001b[0m\n\u001b[0;32m      1\u001b[0m (x, y, z) \u001b[38;5;241m=\u001b[39m (\u001b[38;5;241m10\u001b[39m, \u001b[38;5;241m15\u001b[39m, \u001b[38;5;241m20\u001b[39m)\n\u001b[1;32m----> 2\u001b[0m (x, y) \u001b[38;5;241m=\u001b[39m (\u001b[38;5;241m1\u001b[39m, \u001b[38;5;241m2\u001b[39m, \u001b[38;5;241m3\u001b[39m) \u001b[38;5;66;03m# wrong because assaigning 3 numbers for 2 variables\u001b[39;00m\n\u001b[0;32m      3\u001b[0m x \u001b[38;5;241m=\u001b[39m y \u001b[38;5;241m=\u001b[39m z \u001b[38;5;241m=\u001b[39m\u001b[38;5;241m25\u001b[39m\n",
      "\u001b[1;31mValueError\u001b[0m: too many values to unpack (expected 2)"
     ]
    }
   ],
   "source": [
    "(x, y, z) = (10, 15, 20)\n",
    "(x, y) = (1, 2, 3) # wrong because assaigning 3 numbers for 2 variables\n",
    "x = y = z =25"
   ]
  },
  {
   "cell_type": "code",
   "execution_count": 56,
   "id": "023aef47",
   "metadata": {},
   "outputs": [
    {
     "name": "stdout",
     "output_type": "stream",
     "text": [
      "10\n",
      "15\n",
      "20\n",
      "80 80 80\n"
     ]
    }
   ],
   "source": [
    "print(x)\n",
    "print(y)\n",
    "print(z)\n",
    "a= b= c=80\n",
    "print(a,b,c)\n"
   ]
  },
  {
   "cell_type": "code",
   "execution_count": 60,
   "id": "15a3dead",
   "metadata": {},
   "outputs": [
    {
     "name": "stdout",
     "output_type": "stream",
     "text": [
      "2.5\n",
      "2\n"
     ]
    }
   ],
   "source": [
    "#variables area case sensitive\n",
    "#variables can have special chararacters as _ and numbers and variables\n",
    "# reserved words can't be used\n",
    "# performing operation\n",
    "# // floar division  gives integer part of division\n",
    "x= 5\n",
    "y = 2\n",
    "z = x/y\n",
    "a = x//y\n",
    "print(z)\n",
    "print(a)"
   ]
  },
  {
   "cell_type": "code",
   "execution_count": 20,
   "id": "34039d7e",
   "metadata": {},
   "outputs": [
    {
     "name": "stdout",
     "output_type": "stream",
     "text": [
      "10\n",
      "o\n",
      " impo\n"
     ]
    }
   ],
   "source": [
    "# to find length\n",
    "s = \" important\"\n",
    "print(len(s))\n",
    "print(s[4])\n",
    "print(s[0:5])"
   ]
  },
  {
   "cell_type": "code",
   "execution_count": 9,
   "id": "6b1327da",
   "metadata": {},
   "outputs": [
    {
     "name": "stdout",
     "output_type": "stream",
     "text": [
      "[10, 20, 30]\n",
      "[10, 20, 30, 40]\n",
      "[10, 20, 30, 15, 40]\n",
      "[10, 30, 15, 40]\n",
      "['ab', 'cd', 'ef']\n"
     ]
    }
   ],
   "source": [
    "#operations on list\n",
    "num = [10, 20, 30]\n",
    "print(num)\n",
    "num.append(40)# adda elements at the end of list\n",
    "print(num)\n",
    "num.insert(3, 15) #add item at specified position here postion should be first then adding item\n",
    "print(num)\n",
    "num.remove(20) #removing item from list\n",
    "print(num)\n",
    "str = [\"ab\", \"cd\", \"ef\"]\n",
    "print(str)\n"
   ]
  },
  {
   "cell_type": "markdown",
   "id": "4af7fc81",
   "metadata": {},
   "source": [
    "# class 4.1\n",
    "# all above is 4.1 variables,list,file pointers= tuples\n"
   ]
  },
  {
   "cell_type": "code",
   "execution_count": 3,
   "id": "9d80c2d9",
   "metadata": {},
   "outputs": [
    {
     "name": "stdout",
     "output_type": "stream",
     "text": [
      "<class 'float'>\n",
      "<class 'str'>\n",
      "<class 'str'>\n"
     ]
    }
   ],
   "source": [
    "x=10.54\n",
    "y = 'spoorthi'\n",
    "z = \"spoorthi\"\n",
    "print(type(x))\n",
    "print(type(y))\n",
    "print(type(z))"
   ]
  },
  {
   "cell_type": "markdown",
   "id": "b82863b4",
   "metadata": {},
   "source": [
    "# 5.1"
   ]
  },
  {
   "cell_type": "code",
   "execution_count": 61,
   "id": "e778f0db",
   "metadata": {},
   "outputs": [
    {
     "name": "stdout",
     "output_type": "stream",
     "text": [
      "<class 'int'>\n",
      "<class 'complex'>\n",
      "5.0\n",
      "10.0\n",
      "100\n",
      "5.0\n",
      "5\n",
      "0\n",
      "<class 'str'>\n",
      "123\n",
      "123.0\n",
      "12.5412\n"
     ]
    }
   ],
   "source": [
    "num = 5\n",
    "print(type(num))\n",
    "numq = 5+10j # only j is used as coplex in python\n",
    "print(type(numq))\n",
    "print(numq.real)\n",
    "print(numq.imag)\n",
    "#operations + - * / % //(to have integer  part after division name of this is floor division) **(power)\n",
    "num1 = 10\n",
    "num2 = 2\n",
    "print(num1**num2)\n",
    "print(num1/num2)\n",
    "print(num1//num2)\n",
    "print(num1%num2)\n",
    "str = \"123\"\n",
    "print(type(str))\n",
    "str = int(str) # HERE U ARE CHANGIND STRING TYPE INTO INT BUT U NEED TO AGAIN STORE IT BACK IN THE STR VARIABLE\n",
    "print(typ(str))\n",
    "str = float(str)\n",
    "print((str))\n",
    "x = -12.5412\n",
    "print(abs(x))# harea if value is -ve also absolute will gives only +vee\n"
   ]
  },
  {
   "cell_type": "code",
   "execution_count": null,
   "id": "64b7a262",
   "metadata": {},
   "outputs": [],
   "source": [
    "import math\n",
    "print(math.e)\n",
    "print(math.pi)\n",
    "print(math.e*10)\n",
    "x=10\n",
    "print(math.exp(x))\n",
    "print(math.sqrt(36))# here can we use -ve sign within abs function\n"
   ]
  },
  {
   "cell_type": "code",
   "execution_count": 67,
   "id": "1793bb1c",
   "metadata": {},
   "outputs": [
    {
     "name": "stdout",
     "output_type": "stream",
     "text": [
      "2.718281828459045\n",
      "3.141592653589793\n",
      "27.18281828459045\n",
      "22026.465794806718\n",
      "6.0\n"
     ]
    },
    {
     "data": {
      "text/plain": [
       "10"
      ]
     },
     "execution_count": 67,
     "metadata": {},
     "output_type": "execute_result"
    }
   ],
   "source": [
    "import math \n",
    "print(math.e) \n",
    "print(math.pi)\n",
    "print(math.e*10) \n",
    "x=10\n",
    "print(math.exp(x)) \n",
    "print(math.sqrt(36))\n",
    "max(1000, 100, 10)\n",
    "min(1000, 100, 10)"
   ]
  },
  {
   "cell_type": "code",
   "execution_count": 80,
   "id": "a280c297",
   "metadata": {},
   "outputs": [
    {
     "name": "stdout",
     "output_type": "stream",
     "text": [
      "['shetty', 'spoorthi', 28, 'jan', 'BABU RAJENDRA SHETTY', 26, 'nov']\n",
      "['shetty', 'spoorthi', 28, 'jan', 'BABU RAJENDRA SHETTY', 26, 'nov', 'happy birthday']\n",
      "['spoorthi', 28, 'jan', 'BABU RAJENDRA SHETTY', 26, 'nov', 'happy birthday']\n"
     ]
    }
   ],
   "source": [
    "# list can contain the any  data types like \n",
    "list = ['shetty', \"spoorthi\", 28, \"jan\"]\n",
    "list1 = [\"BABU RAJENDRA SHETTY\", 26, \"nov\"]\n",
    "list.extend(list1)\n",
    "print(list)\n",
    "list.insert(9, \"happy birthday\")\n",
    "print(list)\n",
    "# Here i did a mistake that i have craeted onr variable for inser function but this will not work it shows output as null \n",
    "# append will add element in the end of list\n",
    "list.remove('shetty')\n",
    "print(list)"
   ]
  },
  {
   "cell_type": "code",
   "execution_count": 7,
   "id": "d8a5fe48",
   "metadata": {},
   "outputs": [
    {
     "name": "stdout",
     "output_type": "stream",
     "text": [
      "('s', 1, 20)\n"
     ]
    },
    {
     "ename": "AttributeError",
     "evalue": "'tuple' object has no attribute 'append'",
     "output_type": "error",
     "traceback": [
      "\u001b[1;31m---------------------------------------------------------------------------\u001b[0m",
      "\u001b[1;31mAttributeError\u001b[0m                            Traceback (most recent call last)",
      "Cell \u001b[1;32mIn[7], line 5\u001b[0m\n\u001b[0;32m      3\u001b[0m \u001b[38;5;66;03m# to take out elements from the tuple use indices\u001b[39;00m\n\u001b[0;32m      4\u001b[0m \u001b[38;5;28mtuple\u001b[39m[\u001b[38;5;241m0\u001b[39m]\n\u001b[1;32m----> 5\u001b[0m \u001b[38;5;28mtuple\u001b[39m\u001b[38;5;241m.\u001b[39mappend(\u001b[38;5;124m'\u001b[39m\u001b[38;5;124mp\u001b[39m\u001b[38;5;124m'\u001b[39m)\u001b[38;5;66;03m# error because tuples are immutable\u001b[39;00m\n\u001b[0;32m      6\u001b[0m t \u001b[38;5;241m=\u001b[39m \u001b[38;5;124m'\u001b[39m\u001b[38;5;124ms\u001b[39m\u001b[38;5;124m'\u001b[39m,\n\u001b[0;32m      7\u001b[0m \u001b[38;5;28mprint\u001b[39m(\u001b[38;5;28mtype\u001b[39m(t))\n",
      "\u001b[1;31mAttributeError\u001b[0m: 'tuple' object has no attribute 'append'"
     ]
    }
   ],
   "source": [
    "tuple = (\"s\", 1, 20)\n",
    "print(tuple)\n",
    "\n",
    "tuple.append('p')# error because tuples are immutable\n",
    "t = 's',\n",
    "print(type(t))"
   ]
  },
  {
   "cell_type": "code",
   "execution_count": 12,
   "id": "4a60d71e",
   "metadata": {},
   "outputs": [
    {
     "name": "stdout",
     "output_type": "stream",
     "text": [
      "<class 'tuple'>\n",
      "s\n",
      "20\n",
      "('s', 10, 5, 2.5)\n"
     ]
    }
   ],
   "source": [
    "t = 's',\n",
    "print(type(t)) # in tuple the () are not so necessary but , is very important\n",
    "# to take out elements from the tuple use indices\n",
    "print(tuple[0])\n",
    "print(tuple[-1])\n",
    "num = (10, 5, 2.5 )\n",
    "# concatination is done with + symbol\n",
    "print(t+num)"
   ]
  },
  {
   "cell_type": "markdown",
   "id": "75d4051d",
   "metadata": {},
   "source": [
    "# nesting"
   ]
  },
  {
   "cell_type": "code",
   "execution_count": 14,
   "id": "7abe16a8",
   "metadata": {},
   "outputs": [
    {
     "name": "stdout",
     "output_type": "stream",
     "text": [
      "(('s', 1, 20), (10, 5, 2.5))\n"
     ]
    }
   ],
   "source": [
    "nest = (tuple, num)\n",
    "print(nest)"
   ]
  },
  {
   "cell_type": "markdown",
   "id": "acd49546",
   "metadata": {},
   "source": [
    "# repetiton"
   ]
  },
  {
   "cell_type": "code",
   "execution_count": 19,
   "id": "f8a65c89",
   "metadata": {},
   "outputs": [
    {
     "name": "stdout",
     "output_type": "stream",
     "text": [
      "('python', 'python', 'python', 'python', 'python', 'python', 'python', 'python', 'python', 'python')\n",
      "('hi', 'hi', 'hi', 'hi', 'hi')\n"
     ]
    }
   ],
   "source": [
    "tuple = (\"python\",)*10\n",
    "print(tuple)\n",
    "tupl = (\"hi\",)\n",
    "print(tupl*5)"
   ]
  },
  {
   "cell_type": "markdown",
   "id": "4ec82086",
   "metadata": {},
   "source": [
    "# slicing"
   ]
  },
  {
   "cell_type": "code",
   "execution_count": 33,
   "id": "7963a984",
   "metadata": {},
   "outputs": [
    {
     "name": "stdout",
     "output_type": "stream",
     "text": [
      "(2, 3, 4, 5)\n",
      "(5, 4, 3, 2, 1)\n"
     ]
    }
   ],
   "source": [
    "tuple1 = (1, 2, 3, 4, 5)\n",
    "print(tuple1[1:])\n",
    "#want to print in reverse order \n",
    "print(tuple1[::-1])\n"
   ]
  },
  {
   "cell_type": "code",
   "execution_count": 32,
   "id": "49bf100e",
   "metadata": {},
   "outputs": [
    {
     "ename": "TypeError",
     "evalue": "'tuple' object is not callable",
     "output_type": "error",
     "traceback": [
      "\u001b[1;31m---------------------------------------------------------------------------\u001b[0m",
      "\u001b[1;31mTypeError\u001b[0m                                 Traceback (most recent call last)",
      "Cell \u001b[1;32mIn[32], line 2\u001b[0m\n\u001b[0;32m      1\u001b[0m \u001b[38;5;66;03m#UNPACKING\u001b[39;00m\n\u001b[1;32m----> 2\u001b[0m \u001b[38;5;28mtuple\u001b[39m(\u001b[38;5;124m\"\u001b[39m\u001b[38;5;124msimplylearn\u001b[39m\u001b[38;5;124m\"\u001b[39m)\n",
      "\u001b[1;31mTypeError\u001b[0m: 'tuple' object is not callable"
     ]
    }
   ],
   "source": [
    "#UNPACKING\n",
    "tuple(\"simplylearn\") #should give strings as separated by comas"
   ]
  },
  {
   "cell_type": "code",
   "execution_count": 34,
   "id": "dadc36fc",
   "metadata": {},
   "outputs": [
    {
     "name": "stdout",
     "output_type": "stream",
     "text": [
      "(1, 2, 3, 4, 5)\n"
     ]
    }
   ],
   "source": [
    "print(tuple1)"
   ]
  },
  {
   "cell_type": "code",
   "execution_count": 40,
   "id": "b3fa318f",
   "metadata": {},
   "outputs": [
    {
     "name": "stdout",
     "output_type": "stream",
     "text": [
      "1 2 3 4\n",
      "1 [2, 3, 4] 5\n"
     ]
    }
   ],
   "source": [
    "a,b,c,d,e = tuple1\n",
    "print(a,b,c,d)\n",
    "#when u have no idea about how many elements u have in your tuple then use concept of list i.e\n",
    "a,*b,c=tuple1\n",
    "print(a,b,c)"
   ]
  },
  {
   "cell_type": "code",
   "execution_count": 43,
   "id": "bfdc6650",
   "metadata": {},
   "outputs": [
    {
     "name": "stdout",
     "output_type": "stream",
     "text": [
      "(10, 20, 30)\n"
     ]
    },
    {
     "ename": "NameError",
     "evalue": "name 'tuplee' is not defined",
     "output_type": "error",
     "traceback": [
      "\u001b[1;31m---------------------------------------------------------------------------\u001b[0m",
      "\u001b[1;31mNameError\u001b[0m                                 Traceback (most recent call last)",
      "Cell \u001b[1;32mIn[43], line 4\u001b[0m\n\u001b[0;32m      2\u001b[0m \u001b[38;5;28mprint\u001b[39m(tuplee)\n\u001b[0;32m      3\u001b[0m \u001b[38;5;28;01mdel\u001b[39;00m tuplee\n\u001b[1;32m----> 4\u001b[0m \u001b[38;5;28mprint\u001b[39m(tuplee)\n",
      "\u001b[1;31mNameError\u001b[0m: name 'tuplee' is not defined"
     ]
    }
   ],
   "source": [
    "tuplee = (10,20,30)\n",
    "print(tuplee)\n",
    "del tuplee\n",
    "print(tuplee)# from this we can understabd that we can remove the complete tuple"
   ]
  },
  {
   "cell_type": "markdown",
   "id": "44c1975b",
   "metadata": {},
   "source": [
    "# built in function"
   ]
  },
  {
   "cell_type": "code",
   "execution_count": 50,
   "id": "2adcd538",
   "metadata": {},
   "outputs": [
    {
     "name": "stdout",
     "output_type": "stream",
     "text": [
      "3\n",
      "285\n",
      "7\n",
      "75\n"
     ]
    }
   ],
   "source": [
    "num1 = (15,30,45,30,60,30,75)\n",
    "print(num1.count(30))\n",
    "print(sum(num1))\n",
    "print(len(num1))\n",
    "print(max(num1))\n"
   ]
  },
  {
   "cell_type": "markdown",
   "id": "fad105f1",
   "metadata": {},
   "source": [
    "# converting list into tuple"
   ]
  },
  {
   "cell_type": "code",
   "execution_count": 55,
   "id": "d20e9ef2",
   "metadata": {},
   "outputs": [
    {
     "name": "stdout",
     "output_type": "stream",
     "text": [
      "<class 'list'>\n"
     ]
    }
   ],
   "source": [
    "lst = [4,5,6,7]\n",
    "print(type(lst))\n",
    "# NOT WORKING???????******\n",
    "# CONVERTING TUPLES TO LIST IS NOT POSSIBLE BUT LST -> TUPLE POSSIBLE\n"
   ]
  },
  {
   "cell_type": "code",
   "execution_count": 65,
   "id": "86acea3e",
   "metadata": {},
   "outputs": [
    {
     "ename": "TypeError",
     "evalue": "'tuple' object is not callable",
     "output_type": "error",
     "traceback": [
      "\u001b[1;31m---------------------------------------------------------------------------\u001b[0m",
      "\u001b[1;31mTypeError\u001b[0m                                 Traceback (most recent call last)",
      "Cell \u001b[1;32mIn[65], line 3\u001b[0m\n\u001b[0;32m      1\u001b[0m tuple12 \u001b[38;5;241m=\u001b[39m (\u001b[38;5;241m1\u001b[39m, \u001b[38;5;241m2\u001b[39m, \u001b[38;5;241m3\u001b[39m)  \u001b[38;5;66;03m# redefining 'tuple'\u001b[39;00m\n\u001b[0;32m      2\u001b[0m lst12 \u001b[38;5;241m=\u001b[39m [\u001b[38;5;241m4\u001b[39m, \u001b[38;5;241m5\u001b[39m, \u001b[38;5;241m6\u001b[39m, \u001b[38;5;241m7\u001b[39m]\n\u001b[1;32m----> 3\u001b[0m tpl \u001b[38;5;241m=\u001b[39m \u001b[38;5;28mtuple\u001b[39m(lst12)\n",
      "\u001b[1;31mTypeError\u001b[0m: 'tuple' object is not callable"
     ]
    }
   ],
   "source": [
    "tuple12 = (1, 2, 3)  # redefining 'tuple'\n",
    "lst12 = [4, 5, 6, 7]\n",
    "tpl = tuple(lst12) \n"
   ]
  },
  {
   "cell_type": "markdown",
   "id": "b63dde67",
   "metadata": {},
   "source": [
    "# nesting tuple inside the list vice verse of this is also possible"
   ]
  },
  {
   "cell_type": "code",
   "execution_count": 74,
   "id": "e2808c4c",
   "metadata": {},
   "outputs": [
    {
     "name": "stdout",
     "output_type": "stream",
     "text": [
      "[(1, 2, 3), (10, 20, 30)]\n",
      "[(1, 2, 3), (10, 20, 30), ('I,am,happy',)]\n",
      "[(10, 20, 30), ('I,am,happy',)]\n"
     ]
    }
   ],
   "source": [
    "listy = [(1,2,3),(10,20,30)]\n",
    "print(listy)\n",
    "listy.append((\"I,am,happy\",))\n",
    "print(listy)\n",
    "listy.remove((1,2,3))\n",
    "print(listy)"
   ]
  },
  {
   "cell_type": "markdown",
   "id": "80a26ad7",
   "metadata": {},
   "source": [
    "# nesting list inside tuple"
   ]
  },
  {
   "cell_type": "code",
   "execution_count": 97,
   "id": "42a12c94",
   "metadata": {},
   "outputs": [
    {
     "name": "stdout",
     "output_type": "stream",
     "text": [
      "(['a', 'b', 'c'], ['d', 'e', 'f'])\n"
     ]
    }
   ],
   "source": [
    " tp = (['a','b','c'],['d','e','f'])\n",
    "print(tp)\n",
    "      "
   ]
  },
  {
   "cell_type": "code",
   "execution_count": 102,
   "id": "35bac16f",
   "metadata": {},
   "outputs": [
    {
     "name": "stdout",
     "output_type": "stream",
     "text": [
      "(['a', 'b', 'c', 'z', 'z', 'z', 'z'], ['d', 'e', 'f', 'Q', 'Q', 'Q'])\n"
     ]
    }
   ],
   "source": [
    "tp[0].append('z')\n",
    "print(tp)\n",
    "#???????????????????????????????? why multi \"Z \"\n",
    "\n",
    "\n",
    "\n"
   ]
  },
  {
   "cell_type": "code",
   "execution_count": 101,
   "id": "8d7f63df",
   "metadata": {},
   "outputs": [
    {
     "name": "stdout",
     "output_type": "stream",
     "text": [
      "(['a', 'b', 'c', 'z', 'z', 'z'], ['d', 'e', 'f', 'Q', 'Q', 'Q'])\n"
     ]
    }
   ],
   "source": [
    "tp[1].append('Q')\n",
    "print(tp)\n"
   ]
  },
  {
   "cell_type": "markdown",
   "id": "718b76eb",
   "metadata": {},
   "source": [
    "# 7.1 \n"
   ]
  },
  {
   "cell_type": "code",
   "execution_count": 13,
   "id": "da0c7bad",
   "metadata": {},
   "outputs": [
    {
     "name": "stdout",
     "output_type": "stream",
     "text": [
      "simpli learn\n",
      "tim's birthday\n",
      "tim said that, \" i'am busy today\"\n",
      " hy\n",
      "        there are too \n",
      "        beautiful flowers\n",
      "12\n"
     ]
    }
   ],
   "source": [
    "stg = \"simpli learn\"\n",
    "print(stg)\n",
    "wish = \"tim's birthday\"  \n",
    "#here sysntax error because of '  in string so double quotes should be used'''\n",
    "print(wish)\n",
    "s = 'tim said that, \" i\\'am busy today\"' # have to use '\\' to remove the special meaning of the symbols\n",
    "print(s)\n",
    "p = ''' hy\n",
    "        there are too \n",
    "        beautiful flowers'''\n",
    "print(p)\n",
    "print(len(stg))"
   ]
  },
  {
   "cell_type": "code",
   "execution_count": 7,
   "id": "be24b97d",
   "metadata": {},
   "outputs": [
    {
     "name": "stdout",
     "output_type": "stream",
     "text": [
      "s\n",
      "i\n",
      "m\n",
      "p\n",
      "l\n",
      "e\n",
      " \n",
      "L\n",
      "e\n",
      "a\n",
      "r\n",
      "n\n"
     ]
    }
   ],
   "source": [
    "stg = \"simple Learn\"\n",
    "for i in stg:\n",
    "    print(i) # for printing all characters in single line do print(i,end=\"\") here its not working"
   ]
  },
  {
   "cell_type": "code",
   "execution_count": 8,
   "id": "4cf7009b",
   "metadata": {},
   "outputs": [
    {
     "name": "stdout",
     "output_type": "stream",
     "text": [
      "simpl\n"
     ]
    }
   ],
   "source": [
    "print(stg[0:5])# slicing in the string 1st same index from 0 but last (n-1)"
   ]
  },
  {
   "cell_type": "code",
   "execution_count": 20,
   "id": "2b50ef9b",
   "metadata": {},
   "outputs": [
    {
     "name": "stdout",
     "output_type": "stream",
     "text": [
      " WELCOME TO SIMPLY LEARN\n",
      "-1\n",
      "1\n",
      "['', 'welcome', 'to', 'simply', 'learn']\n",
      "(' welcome', ' to ', 'simply learn')\n"
     ]
    }
   ],
   "source": [
    "str = \" welcome to simply learn\"\n",
    "print(str.upper()) # lower\n",
    "print(str.find('S')) # giving wrong no 11\n",
    "print(str.index('w'))\n",
    "print(str.split(\" \"))# space is needed in b/w it shows list\n",
    "\n",
    "str.replace('simply learn', 'python' )\n",
    "print(str.rpartition(\" to \")) #it shows tuple and here before and after the strings got separated"
   ]
  },
  {
   "cell_type": "markdown",
   "id": "13349c44",
   "metadata": {},
   "source": [
    "# concatination\n"
   ]
  },
  {
   "cell_type": "code",
   "execution_count": 32,
   "id": "ca88bf08",
   "metadata": {},
   "outputs": [
    {
     "name": "stdout",
     "output_type": "stream",
     "text": [
      "good    morning\n",
      "good morning,.. everyone!\n"
     ]
    }
   ],
   "source": [
    "str1 = \"good\"\n",
    "str2 = \"morning\"\n",
    "print(str1+\"    \"+str2)\n",
    "str3 = \"everyone\"\n",
    "strr = \"{} {},.. {}!\".format(str1, str2,str3)\n",
    "print(strr)"
   ]
  },
  {
   "cell_type": "markdown",
   "id": "c9f5c63c",
   "metadata": {},
   "source": [
    "# 8.1 dictionary and sets\n"
   ]
  },
  {
   "cell_type": "code",
   "execution_count": 34,
   "id": "c867e122",
   "metadata": {},
   "outputs": [
    {
     "name": "stdout",
     "output_type": "stream",
     "text": [
      "<class 'dict'>\n"
     ]
    }
   ],
   "source": [
    "# dictinary contain  key and value pairs and is unordered collection of data\n",
    "\n",
    "dict1 ={1:\"i\",2:\"J\",3:\"k\"}\n",
    "print(type(dict1))\n"
   ]
  },
  {
   "cell_type": "code",
   "execution_count": 57,
   "id": "42f8c78c",
   "metadata": {},
   "outputs": [
    {
     "name": "stdout",
     "output_type": "stream",
     "text": [
      "<class 'dict'>\n",
      "{1: 'wecome', 2: 'to', 3: 'NMIT'}\n",
      "{'name': {'fname': 'sam', 'sname': 'actor'}, 'age': 24}\n",
      "None\n",
      "{'name': {'fname': {'Samantha'}}}\n",
      "{'fname': {'Samantha'}}\n",
      "None\n"
     ]
    }
   ],
   "source": [
    "ds = dict([(1,\"wecome\"),(2,\"to\"),(3,\"NMIT\")]) # different way to create dictionary ',' is important \n",
    "print(type(ds))\n",
    "print(ds)\n",
    "d1 ={\"name\":{\"fname\":\"sam\",\"sname\":\"actor\"},\"age\":24} # storing togther fname and lanme using \"{}\"\n",
    "print(d1)\n",
    "print(d1.get(0))\n",
    "d1 =({\"name\":{\"fname\":{\"Samantha\"}}})\n",
    "print(d1)\n",
    "# in the above \n",
    "print(d1[\"name\"])\n",
    "print(d1.get(1)) # access first indexed value in the dictionary\n",
    "print(d1[\"name\"][\"fname\"])"
   ]
  },
  {
   "cell_type": "code",
   "execution_count": 52,
   "id": "945ba772",
   "metadata": {},
   "outputs": [
    {
     "name": "stdout",
     "output_type": "stream",
     "text": [
      "{0: {'hello'}, 1: ('hii', 'are', 'u')}\n",
      "{'fname': {'Samantha'}}\n"
     ]
    }
   ],
   "source": [
    "d={} # adding elements\n",
    "d[0]={\"hello\"}\n",
    "d[1]=(\"hii\", \"are\",\"u\") # anything u can use here either () or {}\n",
    "print(d)\n",
    "\n"
   ]
  },
  {
   "cell_type": "code",
   "execution_count": 3,
   "id": "5cbf5260",
   "metadata": {},
   "outputs": [
    {
     "name": "stdout",
     "output_type": "stream",
     "text": [
      "{'name': 'spoorthi', 'age': 23}\n",
      "<class 'dict'>\n"
     ]
    }
   ],
   "source": [
    "d99 = dict({\"name\":\"spoorthi\",\"age\":23})\n",
    "print(d99)\n",
    "print(type(d99))"
   ]
  },
  {
   "cell_type": "code",
   "execution_count": 4,
   "id": "f2b5ad03",
   "metadata": {},
   "outputs": [
    {
     "name": "stdout",
     "output_type": "stream",
     "text": [
      "{'name': 'spoorthi', 'age': 23}\n"
     ]
    }
   ],
   "source": [
    "print(d99)"
   ]
  },
  {
   "cell_type": "code",
   "execution_count": 5,
   "id": "312836be",
   "metadata": {},
   "outputs": [
    {
     "ename": "KeyError",
     "evalue": "1",
     "output_type": "error",
     "traceback": [
      "\u001b[1;31m---------------------------------------------------------------------------\u001b[0m",
      "\u001b[1;31mKeyError\u001b[0m                                  Traceback (most recent call last)",
      "Cell \u001b[1;32mIn[5], line 1\u001b[0m\n\u001b[1;32m----> 1\u001b[0m d99\u001b[38;5;241m.\u001b[39mpop(\u001b[38;5;241m1\u001b[39m)\n",
      "\u001b[1;31mKeyError\u001b[0m: 1"
     ]
    }
   ],
   "source": [
    "d99.pop(1) # not workingggggggg\n",
    "d99.popitem() # not working but removes item from beginning\n"
   ]
  },
  {
   "cell_type": "markdown",
   "id": "8e19c676",
   "metadata": {},
   "source": [
    "# 9.1\n"
   ]
  },
  {
   "cell_type": "code",
   "execution_count": 2,
   "id": "16ee79ff",
   "metadata": {},
   "outputs": [
    {
     "name": "stdout",
     "output_type": "stream",
     "text": [
      "the number is greater than 5\n",
      "number is less than 5\n"
     ]
    }
   ],
   "source": [
    "#if statement\n",
    "x=10\n",
    "if x>5:\n",
    "    print(\"the number is greater than 5\");\n",
    "print(\"number is less than 5\");"
   ]
  },
  {
   "cell_type": "code",
   "execution_count": 12,
   "id": "82146e44",
   "metadata": {},
   "outputs": [
    {
     "name": "stdout",
     "output_type": "stream",
     "text": [
      "55 is odd number\n"
     ]
    }
   ],
   "source": [
    "x=55\n",
    "if x%2==0:\n",
    "    print(f\"{x} is even number\");\n",
    "else:\n",
    "    print(f\"{x} is odd number\");"
   ]
  },
  {
   "cell_type": "code",
   "execution_count": 20,
   "id": "490a5535",
   "metadata": {},
   "outputs": [
    {
     "name": "stdout",
     "output_type": "stream",
     "text": [
      "the number is not less than 25\n"
     ]
    }
   ],
   "source": [
    "c=30\n",
    "\n",
    "if c<25:\n",
    "    if c%2==0:\n",
    "        print(f\"{c} is even numbervless than 25\");\n",
    "    else:\n",
    "        print(f\"{c} is odd number and less than 25\");\n",
    "else:       \n",
    "    print(\"the number is not less than 25\");\n"
   ]
  },
  {
   "cell_type": "code",
   "execution_count": 25,
   "id": "886a2af5",
   "metadata": {},
   "outputs": [
    {
     "name": "stdout",
     "output_type": "stream",
     "text": [
      "z is a consonent\n"
     ]
    }
   ],
   "source": [
    "var = \"z\" #GOODDDDD\n",
    "if var=='a':\n",
    "    print(f\"{var} is a ovel\")\n",
    "elif var=='e':\n",
    "    print(f\"{var} is a ovel\")\n",
    "elif var=='i':\n",
    "    print(f\"{var} is a ovel\")\n",
    "elif var=='o':\n",
    "    print(f\"{var} is a ovel\")\n",
    "elif var=='u':\n",
    "    print(f\"{var} is a ovel\") \n",
    "else:\n",
    "    print(f\"{var} is a consonent\")"
   ]
  },
  {
   "cell_type": "markdown",
   "id": "63fe0702",
   "metadata": {},
   "source": [
    "# 10.1 LOOPING\n"
   ]
  },
  {
   "cell_type": "code",
   "execution_count": 27,
   "id": "90a6d616",
   "metadata": {},
   "outputs": [
    {
     "name": "stdout",
     "output_type": "stream",
     "text": [
      "(20, 20, 20, 20, 20)\n"
     ]
    }
   ],
   "source": [
    "#for while and nested statements\n",
    "s = (20,)*5\n",
    "print(s)\n"
   ]
  },
  {
   "cell_type": "code",
   "execution_count": 1,
   "id": "27d87f13",
   "metadata": {},
   "outputs": [
    {
     "name": "stdout",
     "output_type": "stream",
     "text": [
      "enter the multiple of 745\n",
      "enter the multiple of 741\n",
      "enter the multiple of 712\n",
      "enter the multiple of 763\n",
      "63 is the multiple of 7\n"
     ]
    }
   ],
   "source": [
    "# REAPEAT section of code unknown number of times untillthe statement becomes TRUE\"\"\n",
    "\n",
    "x=int(input(\"enter the multiple of 7\"));\n",
    "while x%7 !=0:\n",
    "    x=int(input(\"enter the multiple of 7\"));\n",
    "else: \n",
    "    print(\"%d is the multiple of 7\"%x)\n",
    "    "
   ]
  },
  {
   "cell_type": "code",
   "execution_count": null,
   "id": "c12449ef",
   "metadata": {},
   "outputs": [],
   "source": [
    "# loop use to itterate over a sequence it could be a list tuple array or string\n",
    "# for COUNTER in SEQUENCE: \n",
    "# here \"counter\" = keeps the tract on position of the variable "
   ]
  },
  {
   "cell_type": "code",
   "execution_count": 2,
   "id": "f3458a44",
   "metadata": {},
   "outputs": [
    {
     "name": "stdout",
     "output_type": "stream",
     "text": [
      "1\n",
      "2\n",
      "3\n",
      "simplilearn\n"
     ]
    }
   ],
   "source": [
    "x = [1,2,3,\"simplilearn\"]\n",
    "for i in x:\n",
    "    print(i)"
   ]
  },
  {
   "cell_type": "code",
   "execution_count": 3,
   "id": "aeff4c4f",
   "metadata": {},
   "outputs": [
    {
     "name": "stdout",
     "output_type": "stream",
     "text": [
      " \n",
      "s\n",
      "p\n",
      "o\n",
      "o\n",
      "r\n",
      "t\n",
      "T\n",
      "H\n",
      "I\n",
      " \n"
     ]
    }
   ],
   "source": [
    "x =\" spoortTHI \"\n",
    "for i in x:\n",
    "    print(i)\n"
   ]
  },
  {
   "cell_type": "code",
   "execution_count": 9,
   "id": "c74860de",
   "metadata": {},
   "outputs": [
    {
     "name": "stdout",
     "output_type": "stream",
     "text": [
      "0\n",
      "1\n",
      "2\n",
      "3\n",
      "4\n"
     ]
    }
   ],
   "source": [
    "x=10\n",
    "for i in range(5):\n",
    "    print(i)"
   ]
  },
  {
   "cell_type": "markdown",
   "id": "f6b34d1e",
   "metadata": {},
   "source": [
    "# nesting loops(for within for, while withtin while, for in while, while in for)"
   ]
  },
  {
   "cell_type": "code",
   "execution_count": 13,
   "id": "7095ac06",
   "metadata": {},
   "outputs": [
    {
     "name": "stdout",
     "output_type": "stream",
     "text": [
      "123abc"
     ]
    }
   ],
   "source": [
    "x=[[1, 2, 3],['a', 'b', 'c']]\n",
    "for i in x: # to iterate over the elements of x\n",
    "    for j in i: # importatnat hERE IN FIRST for loop i interates over thte first list nd j pints to every elemnts of first list \n",
    "        print(j,end=\"\") # in the second time i points to second list and j points to elemts in second list\n",
    "#observe by using end=\"\" u can print all in single line as a word"
   ]
  },
  {
   "cell_type": "code",
   "execution_count": 16,
   "id": "9181e5e2",
   "metadata": {},
   "outputs": [
    {
     "name": "stdout",
     "output_type": "stream",
     "text": [
      "123\n",
      "abc\n"
     ]
    }
   ],
   "source": [
    "x=[[1, 2, 3],['a', 'b', 'c']]\n",
    "for i in x:\n",
    "    for j in i:\n",
    "        print(j,end=\"\")\n",
    "    print()"
   ]
  },
  {
   "cell_type": "markdown",
   "id": "8212dfc8",
   "metadata": {},
   "source": [
    "# loop controle statements(continue and break)\n"
   ]
  },
  {
   "cell_type": "code",
   "execution_count": 22,
   "id": "14f21af4",
   "metadata": {},
   "outputs": [
    {
     "name": "stdout",
     "output_type": "stream",
     "text": [
      "h\n",
      "e\n",
      "y\n",
      " \n",
      "t\n",
      "h\n",
      "e\n",
      "r\n",
      "e\n"
     ]
    }
   ],
   "source": [
    "x=\"hey there., how are you\"\n",
    "for i in x:\n",
    "    if i==\".\":\n",
    "        break\n",
    "    print(i)"
   ]
  },
  {
   "cell_type": "code",
   "execution_count": 35,
   "id": "10b852cc",
   "metadata": {},
   "outputs": [
    {
     "name": "stdout",
     "output_type": "stream",
     "text": [
      "h\n",
      "e\n",
      "y\n",
      " \n",
      "t\n",
      "h\n",
      "e\n",
      "r\n",
      "e\n",
      ".\n"
     ]
    }
   ],
   "source": [
    "x=\"hey there., how are you\"\n",
    "for i in x:\n",
    "    if i==\",\":\n",
    "        break\n",
    "    print(i)"
   ]
  },
  {
   "cell_type": "code",
   "execution_count": 43,
   "id": "335e386e",
   "metadata": {},
   "outputs": [
    {
     "name": "stdout",
     "output_type": "stream",
     "text": [
      "6\n"
     ]
    }
   ],
   "source": [
    "for i in [1, 13, 56, 4, 6]:\n",
    "    if i>10 :\n",
    "        continue\n",
    "print(i)"
   ]
  },
  {
   "cell_type": "markdown",
   "id": "ddbb81d7",
   "metadata": {},
   "source": [
    "# continue  statement \n"
   ]
  },
  {
   "cell_type": "code",
   "execution_count": 3,
   "id": "f1cbc4d0",
   "metadata": {},
   "outputs": [
    {
     "ename": "IndentationError",
     "evalue": "expected an indented block after 'if' statement on line 2 (2349392813.py, line 3)",
     "output_type": "error",
     "traceback": [
      "\u001b[1;36m  Cell \u001b[1;32mIn[3], line 3\u001b[1;36m\u001b[0m\n\u001b[1;33m    else:\u001b[0m\n\u001b[1;37m    ^\u001b[0m\n\u001b[1;31mIndentationError\u001b[0m\u001b[1;31m:\u001b[0m expected an indented block after 'if' statement on line 2\n"
     ]
    }
   ],
   "source": [
    "for i in [1, 10, 20, 30]:\n",
    "    if i>=10:\n",
    "    else:\n",
    "        print(i)\n",
    "  # to solve this use below code...."
   ]
  },
  {
   "cell_type": "code",
   "execution_count": 6,
   "id": "b38158b4",
   "metadata": {},
   "outputs": [
    {
     "name": "stdout",
     "output_type": "stream",
     "text": [
      "1\n",
      "2\n",
      "5\n"
     ]
    }
   ],
   "source": [
    "for i in [1, 10, 20, 30, 2, 5]:\n",
    "    if i>=10:\n",
    "        continue\n",
    "    else:\n",
    "        print(i) "
   ]
  },
  {
   "cell_type": "code",
   "execution_count": 16,
   "id": "25422c53",
   "metadata": {},
   "outputs": [
    {
     "name": "stdout",
     "output_type": "stream",
     "text": [
      "0\n",
      "2\n",
      "4\n",
      "6\n"
     ]
    }
   ],
   "source": [
    "sum =0\n",
    "for i in range(0, 7):\n",
    "    if i%2==0:      \n",
    "        print(i)"
   ]
  },
  {
   "cell_type": "code",
   "execution_count": 21,
   "id": "637fe42d",
   "metadata": {},
   "outputs": [
    {
     "name": "stdout",
     "output_type": "stream",
     "text": [
      " sum is 0\n",
      " sum is 2\n",
      " sum is 6\n",
      " sum is 12\n"
     ]
    }
   ],
   "source": [
    "sum =0\n",
    "for i in range(0, 7):\n",
    "    if i%2==0: \n",
    "        sum = sum + i\n",
    "        print(f\" sum is {sum}\")"
   ]
  },
  {
   "cell_type": "markdown",
   "id": "46900a5a",
   "metadata": {},
   "source": [
    "# pattern\n",
    "#1 \n",
    "\n",
    "#12\n",
    "\n",
    "#123\n",
    "\n",
    "#last number given by user is number of rows"
   ]
  },
  {
   "cell_type": "code",
   "execution_count": 28,
   "id": "f80eefce",
   "metadata": {},
   "outputs": [
    {
     "name": "stdout",
     "output_type": "stream",
     "text": [
      "enter a number5\n",
      "\n",
      "1\n",
      "\n",
      "12\n",
      "\n",
      "123\n",
      "\n",
      "1234\n",
      "\n",
      "12345\n"
     ]
    }
   ],
   "source": [
    "n = int(input(\"enter a number\"))\n",
    "for i in range(1, n+1):\n",
    "    print(\"\")\n",
    "    for j in range(1,    i+1):\n",
    "        print(j,end=\"\")\n",
    "    print()"
   ]
  },
  {
   "cell_type": "code",
   "execution_count": null,
   "id": "e3e0f937",
   "metadata": {},
   "outputs": [],
   "source": []
  }
 ],
 "metadata": {
  "kernelspec": {
   "display_name": "Python 3 (ipykernel)",
   "language": "python",
   "name": "python3"
  },
  "language_info": {
   "codemirror_mode": {
    "name": "ipython",
    "version": 3
   },
   "file_extension": ".py",
   "mimetype": "text/x-python",
   "name": "python",
   "nbconvert_exporter": "python",
   "pygments_lexer": "ipython3",
   "version": "3.11.5"
  }
 },
 "nbformat": 4,
 "nbformat_minor": 5
}
